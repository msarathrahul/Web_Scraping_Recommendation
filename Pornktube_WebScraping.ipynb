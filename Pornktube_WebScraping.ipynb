{
 "cells": [
  {
   "cell_type": "markdown",
   "id": "0ff0f140",
   "metadata": {},
   "source": [
    "Importing necessary Libraries for Recommendation System"
   ]
  },
  {
   "cell_type": "code",
   "execution_count": 1,
   "id": "9c5d0dff",
   "metadata": {},
   "outputs": [],
   "source": [
    "import urllib.request\n",
    "from bs4 import BeautifulSoup\n",
    "import pandas as pd\n",
    "import numpy as np"
   ]
  },
  {
   "cell_type": "markdown",
   "id": "bc1c3946",
   "metadata": {},
   "source": [
    "Requesting Website access"
   ]
  },
  {
   "cell_type": "code",
   "execution_count": 2,
   "id": "4623f7fd",
   "metadata": {},
   "outputs": [],
   "source": [
    "website = urllib.request.urlopen('https://www.pornktube.tv/latest-updates/').read()"
   ]
  },
  {
   "cell_type": "code",
   "execution_count": 3,
   "id": "eda84d7b",
   "metadata": {},
   "outputs": [],
   "source": [
    "soup = BeautifulSoup(website,'lxml')"
   ]
  },
  {
   "cell_type": "code",
   "execution_count": 4,
   "id": "14ca6c09",
   "metadata": {},
   "outputs": [],
   "source": [
    "#print(soup.prettify())"
   ]
  },
  {
   "cell_type": "markdown",
   "id": "dfe57d61",
   "metadata": {},
   "source": [
    "Finding the last page of the website"
   ]
  },
  {
   "cell_type": "code",
   "execution_count": 5,
   "id": "95772f51",
   "metadata": {},
   "outputs": [],
   "source": [
    "maxpage_finder = soup.find_all('a',class_='fpages')"
   ]
  },
  {
   "cell_type": "code",
   "execution_count": 6,
   "id": "7e1d1263",
   "metadata": {},
   "outputs": [],
   "source": [
    "last_page = int(maxpage_finder[-1].text)"
   ]
  },
  {
   "cell_type": "code",
   "execution_count": 7,
   "id": "02deabec",
   "metadata": {},
   "outputs": [
    {
     "data": {
      "text/plain": [
       "298"
      ]
     },
     "execution_count": 7,
     "metadata": {},
     "output_type": "execute_result"
    }
   ],
   "source": [
    "last_page"
   ]
  },
  {
   "cell_type": "markdown",
   "id": "a2613ada",
   "metadata": {},
   "source": [
    "Getting access to all the link and details of each video:"
   ]
  },
  {
   "cell_type": "code",
   "execution_count": 8,
   "id": "d8c644d7",
   "metadata": {},
   "outputs": [],
   "source": [
    "count = 0\n",
    "video_dict = {}\n",
    "for i in range(1,last_page+1):\n",
    "    link = 'https://www.pornktube.tv/latest-updates/'+ str(i) +'/'\n",
    "    access = urllib.request.urlopen(link).read()\n",
    "    soup = BeautifulSoup(access,'lxml')\n",
    "    each_video = soup.find_all('div',class_='pornkvideos')\n",
    "    for details in each_video:\n",
    "        video_title = details.h2.text\n",
    "        #print(video_title)\n",
    "        video_link = details.a['href']\n",
    "        video_length = details.find('div',class_='vlength').text\n",
    "        video_likes = int(details.find('div',class_='likes').text)\n",
    "        video_dislikes = int(details.find('div',class_='dislikes').text)\n",
    "        video_id = video_link.split('/')[4]\n",
    "        video_dict[video_id] = [video_title.replace('\\n',''),video_link,int(video_length.split(':')[0]),video_likes,video_dislikes]\n",
    "        count = count+1"
   ]
  },
  {
   "cell_type": "code",
   "execution_count": 9,
   "id": "5e1f7d2d",
   "metadata": {},
   "outputs": [
    {
     "data": {
      "text/plain": [
       "[\"Cute Teen Dasha Frost Riding Her Step Brother's Dick And She Loves It\",\n",
       " 'https://www.pornktube.tv/videos/18542/cute-teen-dasha-frost-riding-her-step-brother-s-dick-and-she-loves-it/',\n",
       " 27,\n",
       " 8,\n",
       " 2]"
      ]
     },
     "execution_count": 9,
     "metadata": {},
     "output_type": "execute_result"
    }
   ],
   "source": [
    "#video_dict is a dictionary which contains the ID of the videos as keys and the corresponding details as values\n",
    "#Deatils of video include Title,Link,length of video(Minutes),no. of Likes and Dislikes\n",
    "video_dict['18542']"
   ]
  },
  {
   "cell_type": "code",
   "execution_count": 10,
   "id": "72b38a3c",
   "metadata": {},
   "outputs": [
    {
     "data": {
      "text/plain": [
       "10717"
      ]
     },
     "execution_count": 10,
     "metadata": {},
     "output_type": "execute_result"
    }
   ],
   "source": [
    "#Below funtion gives the total number of videos, till date.\n",
    "len(video_dict)"
   ]
  },
  {
   "cell_type": "markdown",
   "id": "5e76e877",
   "metadata": {},
   "source": [
    "Converting the video details dictionary format to Data frame."
   ]
  },
  {
   "cell_type": "code",
   "execution_count": 11,
   "id": "ffcf8763",
   "metadata": {},
   "outputs": [],
   "source": [
    "df = pd.DataFrame(video_dict).T"
   ]
  },
  {
   "cell_type": "code",
   "execution_count": 12,
   "id": "3063411a",
   "metadata": {},
   "outputs": [],
   "source": [
    "df.rename({0:'video_title'},axis=1,inplace=True)"
   ]
  },
  {
   "cell_type": "code",
   "execution_count": 13,
   "id": "81153805",
   "metadata": {},
   "outputs": [],
   "source": [
    "df.rename({1:'video_link',2:'video_length',3:'video_likes',4:'video_dislikes'},axis=1,inplace=True)"
   ]
  },
  {
   "cell_type": "code",
   "execution_count": 14,
   "id": "dcaf330b",
   "metadata": {},
   "outputs": [],
   "source": [
    "df['video_id'] = df.index"
   ]
  },
  {
   "cell_type": "code",
   "execution_count": 15,
   "id": "913e454b",
   "metadata": {},
   "outputs": [
    {
     "data": {
      "text/html": [
       "<div>\n",
       "<style scoped>\n",
       "    .dataframe tbody tr th:only-of-type {\n",
       "        vertical-align: middle;\n",
       "    }\n",
       "\n",
       "    .dataframe tbody tr th {\n",
       "        vertical-align: top;\n",
       "    }\n",
       "\n",
       "    .dataframe thead th {\n",
       "        text-align: right;\n",
       "    }\n",
       "</style>\n",
       "<table border=\"1\" class=\"dataframe\">\n",
       "  <thead>\n",
       "    <tr style=\"text-align: right;\">\n",
       "      <th></th>\n",
       "      <th>video_title</th>\n",
       "      <th>video_link</th>\n",
       "      <th>video_length</th>\n",
       "      <th>video_likes</th>\n",
       "      <th>video_dislikes</th>\n",
       "      <th>video_id</th>\n",
       "    </tr>\n",
       "  </thead>\n",
       "  <tbody>\n",
       "    <tr>\n",
       "      <th>18542</th>\n",
       "      <td>Cute Teen Dasha Frost Riding Her Step Brother'...</td>\n",
       "      <td>https://www.pornktube.tv/videos/18542/cute-tee...</td>\n",
       "      <td>27</td>\n",
       "      <td>8</td>\n",
       "      <td>2</td>\n",
       "      <td>18542</td>\n",
       "    </tr>\n",
       "    <tr>\n",
       "      <th>18514</th>\n",
       "      <td>Big Tits And Fat Ass MILF Caught Her Jerking S...</td>\n",
       "      <td>https://www.pornktube.tv/videos/18514/big-tits...</td>\n",
       "      <td>36</td>\n",
       "      <td>12</td>\n",
       "      <td>2</td>\n",
       "      <td>18514</td>\n",
       "    </tr>\n",
       "    <tr>\n",
       "      <th>18544</th>\n",
       "      <td>Slim Body Oiled Teen And Mature Masseur In Fee...</td>\n",
       "      <td>https://www.pornktube.tv/videos/18544/slim-bod...</td>\n",
       "      <td>28</td>\n",
       "      <td>134</td>\n",
       "      <td>62</td>\n",
       "      <td>18544</td>\n",
       "    </tr>\n",
       "    <tr>\n",
       "      <th>18536</th>\n",
       "      <td>Natural Tits Mexican Guy And His Busty Step Si...</td>\n",
       "      <td>https://www.pornktube.tv/videos/18536/natural-...</td>\n",
       "      <td>30</td>\n",
       "      <td>315</td>\n",
       "      <td>136</td>\n",
       "      <td>18536</td>\n",
       "    </tr>\n",
       "    <tr>\n",
       "      <th>18543</th>\n",
       "      <td>Big Fat Ass Pornstar Ivy Lebelle Gets Anal By ...</td>\n",
       "      <td>https://www.pornktube.tv/videos/18543/big-fat-...</td>\n",
       "      <td>43</td>\n",
       "      <td>410</td>\n",
       "      <td>226</td>\n",
       "      <td>18543</td>\n",
       "    </tr>\n",
       "  </tbody>\n",
       "</table>\n",
       "</div>"
      ],
      "text/plain": [
       "                                             video_title  \\\n",
       "18542  Cute Teen Dasha Frost Riding Her Step Brother'...   \n",
       "18514  Big Tits And Fat Ass MILF Caught Her Jerking S...   \n",
       "18544  Slim Body Oiled Teen And Mature Masseur In Fee...   \n",
       "18536  Natural Tits Mexican Guy And His Busty Step Si...   \n",
       "18543  Big Fat Ass Pornstar Ivy Lebelle Gets Anal By ...   \n",
       "\n",
       "                                              video_link video_length  \\\n",
       "18542  https://www.pornktube.tv/videos/18542/cute-tee...           27   \n",
       "18514  https://www.pornktube.tv/videos/18514/big-tits...           36   \n",
       "18544  https://www.pornktube.tv/videos/18544/slim-bod...           28   \n",
       "18536  https://www.pornktube.tv/videos/18536/natural-...           30   \n",
       "18543  https://www.pornktube.tv/videos/18543/big-fat-...           43   \n",
       "\n",
       "      video_likes video_dislikes video_id  \n",
       "18542           8              2    18542  \n",
       "18514          12              2    18514  \n",
       "18544         134             62    18544  \n",
       "18536         315            136    18536  \n",
       "18543         410            226    18543  "
      ]
     },
     "execution_count": 15,
     "metadata": {},
     "output_type": "execute_result"
    }
   ],
   "source": [
    "df.head()"
   ]
  },
  {
   "cell_type": "code",
   "execution_count": 16,
   "id": "d15414fe",
   "metadata": {},
   "outputs": [
    {
     "data": {
      "text/plain": [
       "10717"
      ]
     },
     "execution_count": 16,
     "metadata": {},
     "output_type": "execute_result"
    }
   ],
   "source": [
    "len(df['video_id'].unique())"
   ]
  },
  {
   "cell_type": "code",
   "execution_count": 17,
   "id": "424ab83f",
   "metadata": {},
   "outputs": [
    {
     "data": {
      "text/html": [
       "<div>\n",
       "<style scoped>\n",
       "    .dataframe tbody tr th:only-of-type {\n",
       "        vertical-align: middle;\n",
       "    }\n",
       "\n",
       "    .dataframe tbody tr th {\n",
       "        vertical-align: top;\n",
       "    }\n",
       "\n",
       "    .dataframe thead th {\n",
       "        text-align: right;\n",
       "    }\n",
       "</style>\n",
       "<table border=\"1\" class=\"dataframe\">\n",
       "  <thead>\n",
       "    <tr style=\"text-align: right;\">\n",
       "      <th></th>\n",
       "      <th>video_title</th>\n",
       "      <th>video_link</th>\n",
       "      <th>video_length</th>\n",
       "      <th>video_likes</th>\n",
       "      <th>video_dislikes</th>\n",
       "      <th>video_id</th>\n",
       "    </tr>\n",
       "  </thead>\n",
       "  <tbody>\n",
       "    <tr>\n",
       "      <th>12766</th>\n",
       "      <td>Arab porn threesome. Guy with his girlfriend M...</td>\n",
       "      <td>https://www.pornktube.tv/videos/12766/arab-por...</td>\n",
       "      <td>32</td>\n",
       "      <td>39240</td>\n",
       "      <td>18494</td>\n",
       "      <td>12766</td>\n",
       "    </tr>\n",
       "  </tbody>\n",
       "</table>\n",
       "</div>"
      ],
      "text/plain": [
       "                                             video_title  \\\n",
       "12766  Arab porn threesome. Guy with his girlfriend M...   \n",
       "\n",
       "                                              video_link video_length  \\\n",
       "12766  https://www.pornktube.tv/videos/12766/arab-por...           32   \n",
       "\n",
       "      video_likes video_dislikes video_id  \n",
       "12766       39240          18494    12766  "
      ]
     },
     "execution_count": 17,
     "metadata": {},
     "output_type": "execute_result"
    }
   ],
   "source": [
    "#Finding the video which has maximum number of Likes\n",
    "df[df['video_likes'] == df['video_likes'].max()]"
   ]
  },
  {
   "cell_type": "code",
   "execution_count": 18,
   "id": "d208306d",
   "metadata": {},
   "outputs": [
    {
     "data": {
      "text/html": [
       "<div>\n",
       "<style scoped>\n",
       "    .dataframe tbody tr th:only-of-type {\n",
       "        vertical-align: middle;\n",
       "    }\n",
       "\n",
       "    .dataframe tbody tr th {\n",
       "        vertical-align: top;\n",
       "    }\n",
       "\n",
       "    .dataframe thead th {\n",
       "        text-align: right;\n",
       "    }\n",
       "</style>\n",
       "<table border=\"1\" class=\"dataframe\">\n",
       "  <thead>\n",
       "    <tr style=\"text-align: right;\">\n",
       "      <th></th>\n",
       "      <th>video_title</th>\n",
       "      <th>video_link</th>\n",
       "      <th>video_length</th>\n",
       "      <th>video_likes</th>\n",
       "      <th>video_dislikes</th>\n",
       "      <th>video_id</th>\n",
       "    </tr>\n",
       "  </thead>\n",
       "  <tbody>\n",
       "    <tr>\n",
       "      <th>11436</th>\n",
       "      <td>Charming Russian girl has an amazing sex early...</td>\n",
       "      <td>https://www.pornktube.tv/videos/11436/charming...</td>\n",
       "      <td>32</td>\n",
       "      <td>33872</td>\n",
       "      <td>20159</td>\n",
       "      <td>11436</td>\n",
       "    </tr>\n",
       "  </tbody>\n",
       "</table>\n",
       "</div>"
      ],
      "text/plain": [
       "                                             video_title  \\\n",
       "11436  Charming Russian girl has an amazing sex early...   \n",
       "\n",
       "                                              video_link video_length  \\\n",
       "11436  https://www.pornktube.tv/videos/11436/charming...           32   \n",
       "\n",
       "      video_likes video_dislikes video_id  \n",
       "11436       33872          20159    11436  "
      ]
     },
     "execution_count": 18,
     "metadata": {},
     "output_type": "execute_result"
    }
   ],
   "source": [
    "#Finding the video which has maximum number of Dislikes\n",
    "df[df['video_dislikes'] == df['video_dislikes'].max()]"
   ]
  },
  {
   "cell_type": "code",
   "execution_count": 19,
   "id": "d2c932ad",
   "metadata": {},
   "outputs": [
    {
     "data": {
      "text/html": [
       "<div>\n",
       "<style scoped>\n",
       "    .dataframe tbody tr th:only-of-type {\n",
       "        vertical-align: middle;\n",
       "    }\n",
       "\n",
       "    .dataframe tbody tr th {\n",
       "        vertical-align: top;\n",
       "    }\n",
       "\n",
       "    .dataframe thead th {\n",
       "        text-align: right;\n",
       "    }\n",
       "</style>\n",
       "<table border=\"1\" class=\"dataframe\">\n",
       "  <thead>\n",
       "    <tr style=\"text-align: right;\">\n",
       "      <th></th>\n",
       "      <th>video_title</th>\n",
       "      <th>video_link</th>\n",
       "      <th>video_length</th>\n",
       "      <th>video_likes</th>\n",
       "      <th>video_dislikes</th>\n",
       "      <th>video_id</th>\n",
       "    </tr>\n",
       "  </thead>\n",
       "  <tbody>\n",
       "    <tr>\n",
       "      <th>4072</th>\n",
       "      <td>Lesbian fisting and deep penetration</td>\n",
       "      <td>https://www.pornktube.tv/videos/4072/lesbian-f...</td>\n",
       "      <td>545</td>\n",
       "      <td>953</td>\n",
       "      <td>577</td>\n",
       "      <td>4072</td>\n",
       "    </tr>\n",
       "  </tbody>\n",
       "</table>\n",
       "</div>"
      ],
      "text/plain": [
       "                               video_title  \\\n",
       "4072  Lesbian fisting and deep penetration   \n",
       "\n",
       "                                             video_link video_length  \\\n",
       "4072  https://www.pornktube.tv/videos/4072/lesbian-f...          545   \n",
       "\n",
       "     video_likes video_dislikes video_id  \n",
       "4072         953            577     4072  "
      ]
     },
     "execution_count": 19,
     "metadata": {},
     "output_type": "execute_result"
    }
   ],
   "source": [
    "#Finding the video which has maximum length\n",
    "df[df['video_length'] == df['video_length'].max()]"
   ]
  },
  {
   "cell_type": "code",
   "execution_count": 20,
   "id": "318f68fb",
   "metadata": {},
   "outputs": [],
   "source": [
    "df.reset_index(drop=True,inplace=True)"
   ]
  },
  {
   "cell_type": "code",
   "execution_count": 21,
   "id": "05a6d077",
   "metadata": {},
   "outputs": [],
   "source": [
    "#Converting the Datatypes\n",
    "df['video_id'] = df['video_id'].astype(int)\n",
    "df['video_dislikes'] = df['video_dislikes'].astype(int)\n",
    "df['video_likes'] = df['video_likes'].astype(int)\n",
    "df['video_length'] = df['video_length'].astype(int)"
   ]
  },
  {
   "cell_type": "code",
   "execution_count": 22,
   "id": "a75f010c",
   "metadata": {},
   "outputs": [
    {
     "name": "stdout",
     "output_type": "stream",
     "text": [
      "<class 'pandas.core.frame.DataFrame'>\n",
      "RangeIndex: 10717 entries, 0 to 10716\n",
      "Data columns (total 6 columns):\n",
      " #   Column          Non-Null Count  Dtype \n",
      "---  ------          --------------  ----- \n",
      " 0   video_title     10717 non-null  object\n",
      " 1   video_link      10717 non-null  object\n",
      " 2   video_length    10717 non-null  int64 \n",
      " 3   video_likes     10717 non-null  int64 \n",
      " 4   video_dislikes  10717 non-null  int64 \n",
      " 5   video_id        10717 non-null  int64 \n",
      "dtypes: int64(4), object(2)\n",
      "memory usage: 502.5+ KB\n"
     ]
    }
   ],
   "source": [
    "df.info()"
   ]
  },
  {
   "cell_type": "markdown",
   "id": "ec1aa02d",
   "metadata": {},
   "source": [
    "To view full link"
   ]
  },
  {
   "cell_type": "code",
   "execution_count": 23,
   "id": "d288164d",
   "metadata": {},
   "outputs": [],
   "source": [
    "pd.set_option('max_colwidth', 1000)"
   ]
  },
  {
   "cell_type": "code",
   "execution_count": 24,
   "id": "4b2287da",
   "metadata": {},
   "outputs": [
    {
     "data": {
      "text/html": [
       "<div>\n",
       "<style scoped>\n",
       "    .dataframe tbody tr th:only-of-type {\n",
       "        vertical-align: middle;\n",
       "    }\n",
       "\n",
       "    .dataframe tbody tr th {\n",
       "        vertical-align: top;\n",
       "    }\n",
       "\n",
       "    .dataframe thead th {\n",
       "        text-align: right;\n",
       "    }\n",
       "</style>\n",
       "<table border=\"1\" class=\"dataframe\">\n",
       "  <thead>\n",
       "    <tr style=\"text-align: right;\">\n",
       "      <th></th>\n",
       "      <th>video_title</th>\n",
       "      <th>video_link</th>\n",
       "      <th>video_length</th>\n",
       "      <th>video_likes</th>\n",
       "      <th>video_dislikes</th>\n",
       "      <th>video_id</th>\n",
       "    </tr>\n",
       "  </thead>\n",
       "  <tbody>\n",
       "    <tr>\n",
       "      <th>0</th>\n",
       "      <td>Cute Teen Dasha Frost Riding Her Step Brother's Dick And She Loves It</td>\n",
       "      <td>https://www.pornktube.tv/videos/18542/cute-teen-dasha-frost-riding-her-step-brother-s-dick-and-she-loves-it/</td>\n",
       "      <td>27</td>\n",
       "      <td>8</td>\n",
       "      <td>2</td>\n",
       "      <td>18542</td>\n",
       "    </tr>\n",
       "    <tr>\n",
       "      <th>1</th>\n",
       "      <td>Big Tits And Fat Ass MILF Caught Her Jerking Step Son And Adopted His Cock</td>\n",
       "      <td>https://www.pornktube.tv/videos/18514/big-tits-and-fat-ass-milf-caught-her-jerking-step-son-and-adopted-his-cock/</td>\n",
       "      <td>36</td>\n",
       "      <td>12</td>\n",
       "      <td>2</td>\n",
       "      <td>18514</td>\n",
       "    </tr>\n",
       "    <tr>\n",
       "      <th>2</th>\n",
       "      <td>Slim Body Oiled Teen And Mature Masseur In Feet Fetish Porn</td>\n",
       "      <td>https://www.pornktube.tv/videos/18544/slim-body-oiled-teen-and-mature-masseur-in-feet-fetish-porn/</td>\n",
       "      <td>28</td>\n",
       "      <td>134</td>\n",
       "      <td>62</td>\n",
       "      <td>18544</td>\n",
       "    </tr>\n",
       "    <tr>\n",
       "      <th>3</th>\n",
       "      <td>Natural Tits Mexican Guy And His Busty Step Sister Dani Diaz</td>\n",
       "      <td>https://www.pornktube.tv/videos/18536/natural-tits-mexican-guy-and-his-busty-step-sister-dani-diaz/</td>\n",
       "      <td>30</td>\n",
       "      <td>315</td>\n",
       "      <td>136</td>\n",
       "      <td>18536</td>\n",
       "    </tr>\n",
       "    <tr>\n",
       "      <th>4</th>\n",
       "      <td>Big Fat Ass Pornstar Ivy Lebelle Gets Anal By James Deen</td>\n",
       "      <td>https://www.pornktube.tv/videos/18543/big-fat-ass-pornstar-ivy-lebelle-gets-anal-by-james-deen/</td>\n",
       "      <td>43</td>\n",
       "      <td>410</td>\n",
       "      <td>226</td>\n",
       "      <td>18543</td>\n",
       "    </tr>\n",
       "  </tbody>\n",
       "</table>\n",
       "</div>"
      ],
      "text/plain": [
       "                                                                  video_title  \\\n",
       "0       Cute Teen Dasha Frost Riding Her Step Brother's Dick And She Loves It   \n",
       "1  Big Tits And Fat Ass MILF Caught Her Jerking Step Son And Adopted His Cock   \n",
       "2                 Slim Body Oiled Teen And Mature Masseur In Feet Fetish Porn   \n",
       "3                Natural Tits Mexican Guy And His Busty Step Sister Dani Diaz   \n",
       "4                    Big Fat Ass Pornstar Ivy Lebelle Gets Anal By James Deen   \n",
       "\n",
       "                                                                                                          video_link  \\\n",
       "0       https://www.pornktube.tv/videos/18542/cute-teen-dasha-frost-riding-her-step-brother-s-dick-and-she-loves-it/   \n",
       "1  https://www.pornktube.tv/videos/18514/big-tits-and-fat-ass-milf-caught-her-jerking-step-son-and-adopted-his-cock/   \n",
       "2                 https://www.pornktube.tv/videos/18544/slim-body-oiled-teen-and-mature-masseur-in-feet-fetish-porn/   \n",
       "3                https://www.pornktube.tv/videos/18536/natural-tits-mexican-guy-and-his-busty-step-sister-dani-diaz/   \n",
       "4                    https://www.pornktube.tv/videos/18543/big-fat-ass-pornstar-ivy-lebelle-gets-anal-by-james-deen/   \n",
       "\n",
       "   video_length  video_likes  video_dislikes  video_id  \n",
       "0            27            8               2     18542  \n",
       "1            36           12               2     18514  \n",
       "2            28          134              62     18544  \n",
       "3            30          315             136     18536  \n",
       "4            43          410             226     18543  "
      ]
     },
     "execution_count": 24,
     "metadata": {},
     "output_type": "execute_result"
    }
   ],
   "source": [
    "df.head()"
   ]
  },
  {
   "cell_type": "markdown",
   "id": "04395b49",
   "metadata": {},
   "source": [
    "Finding the tags of a given video"
   ]
  },
  {
   "cell_type": "code",
   "execution_count": 25,
   "id": "c01bdd27",
   "metadata": {},
   "outputs": [],
   "source": [
    "Website = urllib.request.urlopen('https://www.pornktube.tv/').read()"
   ]
  },
  {
   "cell_type": "code",
   "execution_count": 26,
   "id": "1f4cce1a",
   "metadata": {},
   "outputs": [],
   "source": [
    "soup = BeautifulSoup(website,'lxml')"
   ]
  },
  {
   "cell_type": "code",
   "execution_count": 27,
   "id": "ac6be008",
   "metadata": {},
   "outputs": [],
   "source": [
    "tags_set = soup.find_all('div',class_='showcat')"
   ]
  },
  {
   "cell_type": "code",
   "execution_count": 28,
   "id": "6c11c049",
   "metadata": {},
   "outputs": [],
   "source": [
    "tags = soup.find_all('a')"
   ]
  },
  {
   "cell_type": "code",
   "execution_count": 29,
   "id": "6a467673",
   "metadata": {},
   "outputs": [],
   "source": [
    "category_list = []\n",
    "for category in tags[13:62]:\n",
    "    category_list.append(category.text.strip())"
   ]
  },
  {
   "cell_type": "code",
   "execution_count": 30,
   "id": "4b0ad4b4",
   "metadata": {},
   "outputs": [
    {
     "data": {
      "text/plain": [
       "(49, ['Amateur', 'Anal', 'Asian', 'BDSM'])"
      ]
     },
     "execution_count": 30,
     "metadata": {},
     "output_type": "execute_result"
    }
   ],
   "source": [
    "#The toatal number of caterories and some of them can be seen below\n",
    "len(category_list),category_list[0:4]"
   ]
  },
  {
   "cell_type": "markdown",
   "id": "bc1f5e78",
   "metadata": {},
   "source": [
    "Finding tags for a given video"
   ]
  },
  {
   "cell_type": "code",
   "execution_count": 31,
   "id": "1c20fd4d",
   "metadata": {},
   "outputs": [],
   "source": [
    "tags_dict = {}\n",
    "for i in df['video_id'].values.tolist():\n",
    "    tags_dict[i] = []"
   ]
  },
  {
   "cell_type": "code",
   "execution_count": 32,
   "id": "8c9ef3f0",
   "metadata": {},
   "outputs": [],
   "source": [
    "count = 0\n",
    "for a_tag in tags[13:62]:\n",
    "    category_link = a_tag['href']\n",
    "    #print(category_link)\n",
    "    category = category_link.split('/')[-2].replace('-porn-videos','')\n",
    "    #print(category)\n",
    "    Website_html = urllib.request.urlopen(category_link).read()\n",
    "    soup = BeautifulSoup(Website_html,'lxml')\n",
    "    #soup.prettify()\n",
    "    last_page = soup.find_all('a',class_='fpages')\n",
    "    try:\n",
    "        last_page = int(last_page[-1].text)\n",
    "    except:\n",
    "        last_page = 1\n",
    "    #print(last_page)\n",
    "    #print('*'*10)\n",
    "    count = count +1\n",
    "    for i in range(1,last_page+1):\n",
    "        if 'teacher' not in category:\n",
    "            link = 'https://www.pornktube.tv/categories/'+ category +'-porn-videos/' + str(i) + '/'\n",
    "        else:\n",
    "            link = 'https://www.pornktube.tv/categories/teacher-videos/'\n",
    "            category = 'teacher'\n",
    "        website_html = urllib.request.urlopen(link).read()\n",
    "        soup_i = BeautifulSoup(website_html,'lxml')\n",
    "        video = soup_i.find_all('div',class_='vid_info')\n",
    "        for j in video:\n",
    "            if category not in tags_dict[int(j.a['href'].split('/')[4])]:\n",
    "                tags_dict[int(j.a['href'].split('/')[4])].append(category.replace('-','_'))"
   ]
  },
  {
   "cell_type": "code",
   "execution_count": 33,
   "id": "f38b4094",
   "metadata": {},
   "outputs": [
    {
     "data": {
      "text/plain": [
       "['russian', 'teen']"
      ]
     },
     "execution_count": 33,
     "metadata": {},
     "output_type": "execute_result"
    }
   ],
   "source": [
    "#The below dictionary has Id of the videos as the keys and the Tags of the corresponding video as Values\n",
    "tags_dict[18542]"
   ]
  },
  {
   "cell_type": "markdown",
   "id": "4c10882b",
   "metadata": {},
   "source": [
    "Adding coloums to the DataFrame"
   ]
  },
  {
   "cell_type": "code",
   "execution_count": 34,
   "id": "4bd71f5a",
   "metadata": {},
   "outputs": [],
   "source": [
    "df['video_tags'] = 0"
   ]
  },
  {
   "cell_type": "code",
   "execution_count": 35,
   "id": "5684df61",
   "metadata": {},
   "outputs": [],
   "source": [
    "l = []\n",
    "for i in tags_dict.values():\n",
    "    l.append(i)\n",
    "df['video_tags'] = l"
   ]
  },
  {
   "cell_type": "code",
   "execution_count": 36,
   "id": "df51c133",
   "metadata": {},
   "outputs": [
    {
     "data": {
      "text/html": [
       "<div>\n",
       "<style scoped>\n",
       "    .dataframe tbody tr th:only-of-type {\n",
       "        vertical-align: middle;\n",
       "    }\n",
       "\n",
       "    .dataframe tbody tr th {\n",
       "        vertical-align: top;\n",
       "    }\n",
       "\n",
       "    .dataframe thead th {\n",
       "        text-align: right;\n",
       "    }\n",
       "</style>\n",
       "<table border=\"1\" class=\"dataframe\">\n",
       "  <thead>\n",
       "    <tr style=\"text-align: right;\">\n",
       "      <th></th>\n",
       "      <th>video_title</th>\n",
       "      <th>video_link</th>\n",
       "      <th>video_length</th>\n",
       "      <th>video_likes</th>\n",
       "      <th>video_dislikes</th>\n",
       "      <th>video_id</th>\n",
       "      <th>video_tags</th>\n",
       "    </tr>\n",
       "  </thead>\n",
       "  <tbody>\n",
       "    <tr>\n",
       "      <th>0</th>\n",
       "      <td>Cute Teen Dasha Frost Riding Her Step Brother's Dick And She Loves It</td>\n",
       "      <td>https://www.pornktube.tv/videos/18542/cute-teen-dasha-frost-riding-her-step-brother-s-dick-and-she-loves-it/</td>\n",
       "      <td>27</td>\n",
       "      <td>8</td>\n",
       "      <td>2</td>\n",
       "      <td>18542</td>\n",
       "      <td>[russian, teen]</td>\n",
       "    </tr>\n",
       "    <tr>\n",
       "      <th>1</th>\n",
       "      <td>Big Tits And Fat Ass MILF Caught Her Jerking Step Son And Adopted His Cock</td>\n",
       "      <td>https://www.pornktube.tv/videos/18514/big-tits-and-fat-ass-milf-caught-her-jerking-step-son-and-adopted-his-cock/</td>\n",
       "      <td>36</td>\n",
       "      <td>12</td>\n",
       "      <td>2</td>\n",
       "      <td>18514</td>\n",
       "      <td>[big_tits, fat, mature]</td>\n",
       "    </tr>\n",
       "    <tr>\n",
       "      <th>2</th>\n",
       "      <td>Slim Body Oiled Teen And Mature Masseur In Feet Fetish Porn</td>\n",
       "      <td>https://www.pornktube.tv/videos/18544/slim-body-oiled-teen-and-mature-masseur-in-feet-fetish-porn/</td>\n",
       "      <td>28</td>\n",
       "      <td>134</td>\n",
       "      <td>62</td>\n",
       "      <td>18544</td>\n",
       "      <td>[feet, massage, teen]</td>\n",
       "    </tr>\n",
       "    <tr>\n",
       "      <th>3</th>\n",
       "      <td>Natural Tits Mexican Guy And His Busty Step Sister Dani Diaz</td>\n",
       "      <td>https://www.pornktube.tv/videos/18536/natural-tits-mexican-guy-and-his-busty-step-sister-dani-diaz/</td>\n",
       "      <td>30</td>\n",
       "      <td>315</td>\n",
       "      <td>136</td>\n",
       "      <td>18536</td>\n",
       "      <td>[cum, latin, teen]</td>\n",
       "    </tr>\n",
       "    <tr>\n",
       "      <th>4</th>\n",
       "      <td>Big Fat Ass Pornstar Ivy Lebelle Gets Anal By James Deen</td>\n",
       "      <td>https://www.pornktube.tv/videos/18543/big-fat-ass-pornstar-ivy-lebelle-gets-anal-by-james-deen/</td>\n",
       "      <td>43</td>\n",
       "      <td>410</td>\n",
       "      <td>226</td>\n",
       "      <td>18543</td>\n",
       "      <td>[anal, big_tits, tattoo]</td>\n",
       "    </tr>\n",
       "  </tbody>\n",
       "</table>\n",
       "</div>"
      ],
      "text/plain": [
       "                                                                  video_title  \\\n",
       "0       Cute Teen Dasha Frost Riding Her Step Brother's Dick And She Loves It   \n",
       "1  Big Tits And Fat Ass MILF Caught Her Jerking Step Son And Adopted His Cock   \n",
       "2                 Slim Body Oiled Teen And Mature Masseur In Feet Fetish Porn   \n",
       "3                Natural Tits Mexican Guy And His Busty Step Sister Dani Diaz   \n",
       "4                    Big Fat Ass Pornstar Ivy Lebelle Gets Anal By James Deen   \n",
       "\n",
       "                                                                                                          video_link  \\\n",
       "0       https://www.pornktube.tv/videos/18542/cute-teen-dasha-frost-riding-her-step-brother-s-dick-and-she-loves-it/   \n",
       "1  https://www.pornktube.tv/videos/18514/big-tits-and-fat-ass-milf-caught-her-jerking-step-son-and-adopted-his-cock/   \n",
       "2                 https://www.pornktube.tv/videos/18544/slim-body-oiled-teen-and-mature-masseur-in-feet-fetish-porn/   \n",
       "3                https://www.pornktube.tv/videos/18536/natural-tits-mexican-guy-and-his-busty-step-sister-dani-diaz/   \n",
       "4                    https://www.pornktube.tv/videos/18543/big-fat-ass-pornstar-ivy-lebelle-gets-anal-by-james-deen/   \n",
       "\n",
       "   video_length  video_likes  video_dislikes  video_id  \\\n",
       "0            27            8               2     18542   \n",
       "1            36           12               2     18514   \n",
       "2            28          134              62     18544   \n",
       "3            30          315             136     18536   \n",
       "4            43          410             226     18543   \n",
       "\n",
       "                 video_tags  \n",
       "0           [russian, teen]  \n",
       "1   [big_tits, fat, mature]  \n",
       "2     [feet, massage, teen]  \n",
       "3        [cum, latin, teen]  \n",
       "4  [anal, big_tits, tattoo]  "
      ]
     },
     "execution_count": 36,
     "metadata": {},
     "output_type": "execute_result"
    }
   ],
   "source": [
    "df.head()"
   ]
  },
  {
   "cell_type": "code",
   "execution_count": 37,
   "id": "9e8a51c9",
   "metadata": {},
   "outputs": [],
   "source": [
    "category_list_copy = []"
   ]
  },
  {
   "cell_type": "code",
   "execution_count": 38,
   "id": "de384284",
   "metadata": {},
   "outputs": [],
   "source": [
    "for i in category_list:\n",
    "    category_list_copy.append(i.lower().replace(' ','_'))"
   ]
  },
  {
   "cell_type": "code",
   "execution_count": 39,
   "id": "160d4b5e",
   "metadata": {},
   "outputs": [
    {
     "data": {
      "text/plain": [
       "49"
      ]
     },
     "execution_count": 39,
     "metadata": {},
     "output_type": "execute_result"
    }
   ],
   "source": [
    "len(category_list_copy)"
   ]
  },
  {
   "cell_type": "code",
   "execution_count": 40,
   "id": "b015b9c9",
   "metadata": {},
   "outputs": [],
   "source": [
    "df_copy = df.copy()"
   ]
  },
  {
   "cell_type": "code",
   "execution_count": 41,
   "id": "aa025865",
   "metadata": {},
   "outputs": [],
   "source": [
    "#we can avoid this by using Count Vectorizer\n",
    "amateur = 'amateur'\n",
    "anal = 'anal'\n",
    "asian = 'asian'\n",
    "bdsm = 'bdsm'\n",
    "big_tits = 'big_tits'\n",
    "black = 'black'\n",
    "blonde = 'blonde'\n",
    "blowjob = 'blowjob'\n",
    "brunette = 'brunette'\n",
    "casting = 'casting'\n",
    "cheating = 'cheating'\n",
    "college = 'college'\n",
    "cumshot = 'cumshot'\n",
    "cunnilingus = 'cunnilingus'\n",
    "double_penetration = 'double_penetration'\n",
    "drunk = 'drunk'\n",
    "fat = 'fat'\n",
    "feet = 'feet'\n",
    "fisting = 'fisting'\n",
    "gay = 'gay'\n",
    "group_sex = 'group_sex'\n",
    "hairy = 'hairy'\n",
    "hardcore = 'hardcore'\n",
    "homemade = 'homemade'\n",
    "interracial = 'interracial'\n",
    "japanese = 'japanese'\n",
    "latin = 'latin'\n",
    "lesbian = 'lesbian'\n",
    "massage = 'massage'\n",
    "masturbation = 'masturbation'\n",
    "mature = 'mature'\n",
    "nudist = 'nudist'\n",
    "party = 'party'\n",
    "pornstar = 'pornstar'\n",
    "pov = 'pov'\n",
    "public = 'public'\n",
    "russian = 'russian'\n",
    "sex_toy = 'sex_toy'\n",
    "shemale = 'shemale'\n",
    "solo = 'solo'\n",
    "strapon = 'strapon'\n",
    "squirting = 'squirting'\n",
    "swingers = 'swinger'\n",
    "tattoo = 'tattoo'\n",
    "teacher = 'teacher'\n",
    "teen = 'teen'\n",
    "voyeur = 'voyeur'\n",
    "work = 'work'\n",
    "category_list_copy[-6] = 'swinger'"
   ]
  },
  {
   "cell_type": "code",
   "execution_count": 42,
   "id": "c3643279",
   "metadata": {},
   "outputs": [],
   "source": [
    "#The function tag_vectorizer converts the tags into vector for in 49 dimensional space\n",
    "def tag_vectorizer(ls):\n",
    "    arr = np.zeros(49).astype(int)\n",
    "    #print(len(arr))\n",
    "    for i in ls:\n",
    "        ind = category_list_copy.index(i)\n",
    "        arr[ind] = 1\n",
    "    return arr"
   ]
  },
  {
   "cell_type": "code",
   "execution_count": 43,
   "id": "3d6ed822",
   "metadata": {},
   "outputs": [],
   "source": [
    "df_copy['vector_tags'] = df_copy['video_tags'].apply(lambda x : tag_vectorizer(x))"
   ]
  },
  {
   "cell_type": "code",
   "execution_count": 44,
   "id": "b823b79d",
   "metadata": {},
   "outputs": [
    {
     "data": {
      "text/html": [
       "<div>\n",
       "<style scoped>\n",
       "    .dataframe tbody tr th:only-of-type {\n",
       "        vertical-align: middle;\n",
       "    }\n",
       "\n",
       "    .dataframe tbody tr th {\n",
       "        vertical-align: top;\n",
       "    }\n",
       "\n",
       "    .dataframe thead th {\n",
       "        text-align: right;\n",
       "    }\n",
       "</style>\n",
       "<table border=\"1\" class=\"dataframe\">\n",
       "  <thead>\n",
       "    <tr style=\"text-align: right;\">\n",
       "      <th></th>\n",
       "      <th>video_title</th>\n",
       "      <th>video_link</th>\n",
       "      <th>video_length</th>\n",
       "      <th>video_likes</th>\n",
       "      <th>video_dislikes</th>\n",
       "      <th>video_id</th>\n",
       "      <th>video_tags</th>\n",
       "      <th>vector_tags</th>\n",
       "    </tr>\n",
       "  </thead>\n",
       "  <tbody>\n",
       "    <tr>\n",
       "      <th>0</th>\n",
       "      <td>Cute Teen Dasha Frost Riding Her Step Brother's Dick And She Loves It</td>\n",
       "      <td>https://www.pornktube.tv/videos/18542/cute-teen-dasha-frost-riding-her-step-brother-s-dick-and-she-loves-it/</td>\n",
       "      <td>27</td>\n",
       "      <td>8</td>\n",
       "      <td>2</td>\n",
       "      <td>18542</td>\n",
       "      <td>[russian, teen]</td>\n",
       "      <td>[0, 0, 0, 0, 0, 0, 0, 0, 0, 0, 0, 0, 0, 0, 0, 0, 0, 0, 0, 0, 0, 0, 0, 0, 0, 0, 0, 0, 0, 0, 0, 0, 0, 0, 0, 0, 0, 1, 0, 0, 0, 0, 0, 0, 0, 0, 1, 0, 0]</td>\n",
       "    </tr>\n",
       "    <tr>\n",
       "      <th>1</th>\n",
       "      <td>Big Tits And Fat Ass MILF Caught Her Jerking Step Son And Adopted His Cock</td>\n",
       "      <td>https://www.pornktube.tv/videos/18514/big-tits-and-fat-ass-milf-caught-her-jerking-step-son-and-adopted-his-cock/</td>\n",
       "      <td>36</td>\n",
       "      <td>12</td>\n",
       "      <td>2</td>\n",
       "      <td>18514</td>\n",
       "      <td>[big_tits, fat, mature]</td>\n",
       "      <td>[0, 0, 0, 0, 1, 0, 0, 0, 0, 0, 0, 0, 0, 0, 0, 0, 0, 1, 0, 0, 0, 0, 0, 0, 0, 0, 0, 0, 0, 0, 0, 1, 0, 0, 0, 0, 0, 0, 0, 0, 0, 0, 0, 0, 0, 0, 0, 0, 0]</td>\n",
       "    </tr>\n",
       "    <tr>\n",
       "      <th>2</th>\n",
       "      <td>Slim Body Oiled Teen And Mature Masseur In Feet Fetish Porn</td>\n",
       "      <td>https://www.pornktube.tv/videos/18544/slim-body-oiled-teen-and-mature-masseur-in-feet-fetish-porn/</td>\n",
       "      <td>28</td>\n",
       "      <td>134</td>\n",
       "      <td>62</td>\n",
       "      <td>18544</td>\n",
       "      <td>[feet, massage, teen]</td>\n",
       "      <td>[0, 0, 0, 0, 0, 0, 0, 0, 0, 0, 0, 0, 0, 0, 0, 0, 0, 0, 1, 0, 0, 0, 0, 0, 0, 0, 0, 0, 0, 1, 0, 0, 0, 0, 0, 0, 0, 0, 0, 0, 0, 0, 0, 0, 0, 0, 1, 0, 0]</td>\n",
       "    </tr>\n",
       "    <tr>\n",
       "      <th>3</th>\n",
       "      <td>Natural Tits Mexican Guy And His Busty Step Sister Dani Diaz</td>\n",
       "      <td>https://www.pornktube.tv/videos/18536/natural-tits-mexican-guy-and-his-busty-step-sister-dani-diaz/</td>\n",
       "      <td>30</td>\n",
       "      <td>315</td>\n",
       "      <td>136</td>\n",
       "      <td>18536</td>\n",
       "      <td>[cum, latin, teen]</td>\n",
       "      <td>[0, 0, 0, 0, 0, 0, 0, 0, 0, 0, 0, 0, 1, 0, 0, 0, 0, 0, 0, 0, 0, 0, 0, 0, 0, 0, 0, 1, 0, 0, 0, 0, 0, 0, 0, 0, 0, 0, 0, 0, 0, 0, 0, 0, 0, 0, 1, 0, 0]</td>\n",
       "    </tr>\n",
       "    <tr>\n",
       "      <th>4</th>\n",
       "      <td>Big Fat Ass Pornstar Ivy Lebelle Gets Anal By James Deen</td>\n",
       "      <td>https://www.pornktube.tv/videos/18543/big-fat-ass-pornstar-ivy-lebelle-gets-anal-by-james-deen/</td>\n",
       "      <td>43</td>\n",
       "      <td>410</td>\n",
       "      <td>226</td>\n",
       "      <td>18543</td>\n",
       "      <td>[anal, big_tits, tattoo]</td>\n",
       "      <td>[0, 1, 0, 0, 1, 0, 0, 0, 0, 0, 0, 0, 0, 0, 0, 0, 0, 0, 0, 0, 0, 0, 0, 0, 0, 0, 0, 0, 0, 0, 0, 0, 0, 0, 0, 0, 0, 0, 0, 0, 0, 0, 0, 0, 1, 0, 0, 0, 0]</td>\n",
       "    </tr>\n",
       "  </tbody>\n",
       "</table>\n",
       "</div>"
      ],
      "text/plain": [
       "                                                                  video_title  \\\n",
       "0       Cute Teen Dasha Frost Riding Her Step Brother's Dick And She Loves It   \n",
       "1  Big Tits And Fat Ass MILF Caught Her Jerking Step Son And Adopted His Cock   \n",
       "2                 Slim Body Oiled Teen And Mature Masseur In Feet Fetish Porn   \n",
       "3                Natural Tits Mexican Guy And His Busty Step Sister Dani Diaz   \n",
       "4                    Big Fat Ass Pornstar Ivy Lebelle Gets Anal By James Deen   \n",
       "\n",
       "                                                                                                          video_link  \\\n",
       "0       https://www.pornktube.tv/videos/18542/cute-teen-dasha-frost-riding-her-step-brother-s-dick-and-she-loves-it/   \n",
       "1  https://www.pornktube.tv/videos/18514/big-tits-and-fat-ass-milf-caught-her-jerking-step-son-and-adopted-his-cock/   \n",
       "2                 https://www.pornktube.tv/videos/18544/slim-body-oiled-teen-and-mature-masseur-in-feet-fetish-porn/   \n",
       "3                https://www.pornktube.tv/videos/18536/natural-tits-mexican-guy-and-his-busty-step-sister-dani-diaz/   \n",
       "4                    https://www.pornktube.tv/videos/18543/big-fat-ass-pornstar-ivy-lebelle-gets-anal-by-james-deen/   \n",
       "\n",
       "   video_length  video_likes  video_dislikes  video_id  \\\n",
       "0            27            8               2     18542   \n",
       "1            36           12               2     18514   \n",
       "2            28          134              62     18544   \n",
       "3            30          315             136     18536   \n",
       "4            43          410             226     18543   \n",
       "\n",
       "                 video_tags  \\\n",
       "0           [russian, teen]   \n",
       "1   [big_tits, fat, mature]   \n",
       "2     [feet, massage, teen]   \n",
       "3        [cum, latin, teen]   \n",
       "4  [anal, big_tits, tattoo]   \n",
       "\n",
       "                                                                                                                                           vector_tags  \n",
       "0  [0, 0, 0, 0, 0, 0, 0, 0, 0, 0, 0, 0, 0, 0, 0, 0, 0, 0, 0, 0, 0, 0, 0, 0, 0, 0, 0, 0, 0, 0, 0, 0, 0, 0, 0, 0, 0, 1, 0, 0, 0, 0, 0, 0, 0, 0, 1, 0, 0]  \n",
       "1  [0, 0, 0, 0, 1, 0, 0, 0, 0, 0, 0, 0, 0, 0, 0, 0, 0, 1, 0, 0, 0, 0, 0, 0, 0, 0, 0, 0, 0, 0, 0, 1, 0, 0, 0, 0, 0, 0, 0, 0, 0, 0, 0, 0, 0, 0, 0, 0, 0]  \n",
       "2  [0, 0, 0, 0, 0, 0, 0, 0, 0, 0, 0, 0, 0, 0, 0, 0, 0, 0, 1, 0, 0, 0, 0, 0, 0, 0, 0, 0, 0, 1, 0, 0, 0, 0, 0, 0, 0, 0, 0, 0, 0, 0, 0, 0, 0, 0, 1, 0, 0]  \n",
       "3  [0, 0, 0, 0, 0, 0, 0, 0, 0, 0, 0, 0, 1, 0, 0, 0, 0, 0, 0, 0, 0, 0, 0, 0, 0, 0, 0, 1, 0, 0, 0, 0, 0, 0, 0, 0, 0, 0, 0, 0, 0, 0, 0, 0, 0, 0, 1, 0, 0]  \n",
       "4  [0, 1, 0, 0, 1, 0, 0, 0, 0, 0, 0, 0, 0, 0, 0, 0, 0, 0, 0, 0, 0, 0, 0, 0, 0, 0, 0, 0, 0, 0, 0, 0, 0, 0, 0, 0, 0, 0, 0, 0, 0, 0, 0, 0, 1, 0, 0, 0, 0]  "
      ]
     },
     "execution_count": 44,
     "metadata": {},
     "output_type": "execute_result"
    }
   ],
   "source": [
    "df_copy.head()"
   ]
  },
  {
   "cell_type": "code",
   "execution_count": 45,
   "id": "e14cad73",
   "metadata": {},
   "outputs": [],
   "source": [
    "df_copy.reset_index(inplace=True)"
   ]
  },
  {
   "cell_type": "code",
   "execution_count": 46,
   "id": "abe8fdfa",
   "metadata": {},
   "outputs": [],
   "source": [
    "l = []\n",
    "for i in range(0,df_copy.shape[0]):\n",
    "    l.append(df_copy.iloc[i]['vector_tags'].tolist())"
   ]
  },
  {
   "cell_type": "code",
   "execution_count": 47,
   "id": "252ad37e",
   "metadata": {},
   "outputs": [],
   "source": [
    "array = np.array(l)"
   ]
  },
  {
   "cell_type": "code",
   "execution_count": 48,
   "id": "695aa2e7",
   "metadata": {},
   "outputs": [
    {
     "data": {
      "text/plain": [
       "array([[0, 0, 0, ..., 1, 0, 0],\n",
       "       [0, 0, 0, ..., 0, 0, 0],\n",
       "       [0, 0, 0, ..., 1, 0, 0],\n",
       "       ...,\n",
       "       [0, 0, 0, ..., 0, 0, 0],\n",
       "       [0, 0, 0, ..., 1, 0, 0],\n",
       "       [0, 0, 0, ..., 0, 0, 0]])"
      ]
     },
     "execution_count": 48,
     "metadata": {},
     "output_type": "execute_result"
    }
   ],
   "source": [
    "array"
   ]
  },
  {
   "cell_type": "markdown",
   "id": "c678d2b5",
   "metadata": {},
   "source": [
    "Finding the nearest videos in a space which provides us the information of similarity"
   ]
  },
  {
   "cell_type": "markdown",
   "id": "25f931fa",
   "metadata": {},
   "source": [
    "# Recommendation System based on tags"
   ]
  },
  {
   "cell_type": "code",
   "execution_count": 49,
   "id": "91f1f36e",
   "metadata": {},
   "outputs": [],
   "source": [
    "from sklearn.metrics.pairwise import cosine_similarity"
   ]
  },
  {
   "cell_type": "code",
   "execution_count": 50,
   "id": "fe41bf9b",
   "metadata": {},
   "outputs": [],
   "source": [
    "sim = cosine_similarity(array)"
   ]
  },
  {
   "cell_type": "code",
   "execution_count": 51,
   "id": "9896aa27",
   "metadata": {},
   "outputs": [],
   "source": [
    "#The function similar_videos provides 12 similar videos based upon the tags,Input Id(int) of the video or link(str)\n",
    "def similar_videos(id):\n",
    "    if 'https:' in str(id):\n",
    "        id = int(id.split('/')[4])\n",
    "    else:\n",
    "        index_given = df_copy[df_copy['video_id'] == id].index[0]\n",
    "        print(df_copy.loc[index_given]['video_link'])\n",
    "        most_similar_videos = sorted(list(enumerate(sim[index_given])),reverse=True,key = lambda x : x[-1])[1:13]\n",
    "        #print(most_similar_videos)\n",
    "        l = []\n",
    "        for i in most_similar_videos:\n",
    "            l.append(i[0])\n",
    "        #print(l)\n",
    "        print('Recommended Videos')\n",
    "        for i in l:\n",
    "            print(df_copy.iloc[i]['video_link'])"
   ]
  },
  {
   "cell_type": "code",
   "execution_count": 52,
   "id": "0f6f7b74",
   "metadata": {},
   "outputs": [
    {
     "name": "stdout",
     "output_type": "stream",
     "text": [
      "https://www.pornktube.tv/videos/18543/big-fat-ass-pornstar-ivy-lebelle-gets-anal-by-james-deen/\n",
      "Recommended Videos\n",
      "https://www.pornktube.tv/videos/17066/marica-chanelle-my-big-tight-ass-needs-deep-plowing-by-fat-dick/\n",
      "https://www.pornktube.tv/videos/16053/horny-blonde-karma-rx-gets-her-tattooed-butt-banged-by-markus-dupree/\n",
      "https://www.pornktube.tv/videos/16108/sarah-jessie-brutal-fucker-ramon-nomar-fucks-busty-milf-s-ass/\n",
      "https://www.pornktube.tv/videos/16004/tattooed-punk-ivy-lebelle-prefers-maximum-penetration-in-her-ass/\n",
      "https://www.pornktube.tv/videos/16002/quality-anal-porn-with-big-booty-bitch-ivy-lebelle/\n",
      "https://www.pornktube.tv/videos/14791/big-oiled-booty-slut-ivy-lebelle-gets-fucked-by-markus-dupree/\n",
      "https://www.pornktube.tv/videos/14641/harlow-harrison-pleasant-conversation-and-sex-with-drunken-bartender/\n",
      "https://www.pornktube.tv/videos/14450/veronica-rose-i-love-colorful-tattoos-and-deep-anal-banged/\n",
      "https://www.pornktube.tv/videos/13418/married-man-fucks-his-wife-s-instructor-harlow-harrison/\n",
      "https://www.pornktube.tv/videos/13355/first-anal-action-slutty-anna-bell-peaks-takes-fat-cock-into-her-ass/\n",
      "https://www.pornktube.tv/videos/12509/tattooed-slut-mason-moore-with-big-boobs-gets-assfucked-hard/\n",
      "https://www.pornktube.tv/videos/15714/lonely-mature-woman-ashton-blake-seduced-her-21-year-old-neighbor/\n"
     ]
    }
   ],
   "source": [
    "similar_videos(18543)"
   ]
  },
  {
   "cell_type": "code",
   "execution_count": 53,
   "id": "a0a45556",
   "metadata": {},
   "outputs": [],
   "source": [
    "df.to_csv('pornktube.csv', index=False)\n",
    "df_copy.to_csv('pornktube_copy.csv', index=False)"
   ]
  },
  {
   "cell_type": "markdown",
   "id": "634e5868",
   "metadata": {},
   "source": [
    "# Recommendation system based on title"
   ]
  },
  {
   "cell_type": "code",
   "execution_count": 54,
   "id": "a79a0990",
   "metadata": {},
   "outputs": [],
   "source": [
    "import nltk"
   ]
  },
  {
   "cell_type": "code",
   "execution_count": 55,
   "id": "6e5f438d",
   "metadata": {},
   "outputs": [],
   "source": [
    "from nltk.corpus import stopwords"
   ]
  },
  {
   "cell_type": "code",
   "execution_count": 56,
   "id": "f2bbb22c",
   "metadata": {},
   "outputs": [],
   "source": [
    "stop = stopwords.words('english')"
   ]
  },
  {
   "cell_type": "code",
   "execution_count": 57,
   "id": "dbdbef4d",
   "metadata": {},
   "outputs": [
    {
     "data": {
      "text/plain": [
       "True"
      ]
     },
     "execution_count": 57,
     "metadata": {},
     "output_type": "execute_result"
    }
   ],
   "source": [
    "'the' in stopwords.words('english')\n",
    "'by' in stopwords.words('english')"
   ]
  },
  {
   "cell_type": "code",
   "execution_count": 58,
   "id": "d7db6fe0",
   "metadata": {},
   "outputs": [],
   "source": [
    "df_copy['video_title'] = df_copy['video_title'].apply(lambda x: x.lower())"
   ]
  },
  {
   "cell_type": "code",
   "execution_count": 59,
   "id": "7802ccb5",
   "metadata": {},
   "outputs": [],
   "source": [
    "#Removes stop words from the titles\n",
    "def remove_stopwords(text):\n",
    "    text_ls = text.split()\n",
    "    l = []\n",
    "    for i in text_ls:\n",
    "        if i not in stop:\n",
    "            l.append(i)\n",
    "    return ' '.join(l)"
   ]
  },
  {
   "cell_type": "code",
   "execution_count": 60,
   "id": "9b85482d",
   "metadata": {},
   "outputs": [],
   "source": [
    "df_copy['video_title'] = df_copy['video_title'].apply(lambda x: remove_stopwords(x))"
   ]
  },
  {
   "cell_type": "code",
   "execution_count": 61,
   "id": "a03080d6",
   "metadata": {},
   "outputs": [],
   "source": [
    "import string"
   ]
  },
  {
   "cell_type": "code",
   "execution_count": 62,
   "id": "d74283ef",
   "metadata": {},
   "outputs": [],
   "source": [
    "special_characters = list(string.punctuation)"
   ]
  },
  {
   "cell_type": "code",
   "execution_count": 63,
   "id": "e2759093",
   "metadata": {},
   "outputs": [],
   "source": [
    "#Removes special_characters from the titles\n",
    "def special_characters_remover(text):\n",
    "    text_ls = text.split()\n",
    "    l = []\n",
    "    for i in text_ls:\n",
    "        if i.isalnum():\n",
    "            l.append(i)\n",
    "        else:\n",
    "            l2 = []\n",
    "            for j in i:\n",
    "                if j.isalnum():\n",
    "                    l2.append(j)\n",
    "            w = ''.join(l2)\n",
    "            l.append(w)\n",
    "    return ' '.join(l)"
   ]
  },
  {
   "cell_type": "code",
   "execution_count": 64,
   "id": "cccbc7ef",
   "metadata": {},
   "outputs": [],
   "source": [
    "df_copy['video_title'] = df_copy['video_title'].apply(lambda x: special_characters_remover(x))"
   ]
  },
  {
   "cell_type": "code",
   "execution_count": 65,
   "id": "d193a2e9",
   "metadata": {},
   "outputs": [
    {
     "data": {
      "text/html": [
       "<div>\n",
       "<style scoped>\n",
       "    .dataframe tbody tr th:only-of-type {\n",
       "        vertical-align: middle;\n",
       "    }\n",
       "\n",
       "    .dataframe tbody tr th {\n",
       "        vertical-align: top;\n",
       "    }\n",
       "\n",
       "    .dataframe thead th {\n",
       "        text-align: right;\n",
       "    }\n",
       "</style>\n",
       "<table border=\"1\" class=\"dataframe\">\n",
       "  <thead>\n",
       "    <tr style=\"text-align: right;\">\n",
       "      <th></th>\n",
       "      <th>index</th>\n",
       "      <th>video_title</th>\n",
       "      <th>video_link</th>\n",
       "      <th>video_length</th>\n",
       "      <th>video_likes</th>\n",
       "      <th>video_dislikes</th>\n",
       "      <th>video_id</th>\n",
       "      <th>video_tags</th>\n",
       "      <th>vector_tags</th>\n",
       "    </tr>\n",
       "  </thead>\n",
       "  <tbody>\n",
       "    <tr>\n",
       "      <th>0</th>\n",
       "      <td>0</td>\n",
       "      <td>cute teen dasha frost riding step brothers dick loves</td>\n",
       "      <td>https://www.pornktube.tv/videos/18542/cute-teen-dasha-frost-riding-her-step-brother-s-dick-and-she-loves-it/</td>\n",
       "      <td>27</td>\n",
       "      <td>8</td>\n",
       "      <td>2</td>\n",
       "      <td>18542</td>\n",
       "      <td>[russian, teen]</td>\n",
       "      <td>[0, 0, 0, 0, 0, 0, 0, 0, 0, 0, 0, 0, 0, 0, 0, 0, 0, 0, 0, 0, 0, 0, 0, 0, 0, 0, 0, 0, 0, 0, 0, 0, 0, 0, 0, 0, 0, 1, 0, 0, 0, 0, 0, 0, 0, 0, 1, 0, 0]</td>\n",
       "    </tr>\n",
       "    <tr>\n",
       "      <th>1</th>\n",
       "      <td>1</td>\n",
       "      <td>big tits fat ass milf caught jerking step son adopted cock</td>\n",
       "      <td>https://www.pornktube.tv/videos/18514/big-tits-and-fat-ass-milf-caught-her-jerking-step-son-and-adopted-his-cock/</td>\n",
       "      <td>36</td>\n",
       "      <td>12</td>\n",
       "      <td>2</td>\n",
       "      <td>18514</td>\n",
       "      <td>[big_tits, fat, mature]</td>\n",
       "      <td>[0, 0, 0, 0, 1, 0, 0, 0, 0, 0, 0, 0, 0, 0, 0, 0, 0, 1, 0, 0, 0, 0, 0, 0, 0, 0, 0, 0, 0, 0, 0, 1, 0, 0, 0, 0, 0, 0, 0, 0, 0, 0, 0, 0, 0, 0, 0, 0, 0]</td>\n",
       "    </tr>\n",
       "    <tr>\n",
       "      <th>2</th>\n",
       "      <td>2</td>\n",
       "      <td>slim body oiled teen mature masseur feet fetish porn</td>\n",
       "      <td>https://www.pornktube.tv/videos/18544/slim-body-oiled-teen-and-mature-masseur-in-feet-fetish-porn/</td>\n",
       "      <td>28</td>\n",
       "      <td>134</td>\n",
       "      <td>62</td>\n",
       "      <td>18544</td>\n",
       "      <td>[feet, massage, teen]</td>\n",
       "      <td>[0, 0, 0, 0, 0, 0, 0, 0, 0, 0, 0, 0, 0, 0, 0, 0, 0, 0, 1, 0, 0, 0, 0, 0, 0, 0, 0, 0, 0, 1, 0, 0, 0, 0, 0, 0, 0, 0, 0, 0, 0, 0, 0, 0, 0, 0, 1, 0, 0]</td>\n",
       "    </tr>\n",
       "    <tr>\n",
       "      <th>3</th>\n",
       "      <td>3</td>\n",
       "      <td>natural tits mexican guy busty step sister dani diaz</td>\n",
       "      <td>https://www.pornktube.tv/videos/18536/natural-tits-mexican-guy-and-his-busty-step-sister-dani-diaz/</td>\n",
       "      <td>30</td>\n",
       "      <td>315</td>\n",
       "      <td>136</td>\n",
       "      <td>18536</td>\n",
       "      <td>[cum, latin, teen]</td>\n",
       "      <td>[0, 0, 0, 0, 0, 0, 0, 0, 0, 0, 0, 0, 1, 0, 0, 0, 0, 0, 0, 0, 0, 0, 0, 0, 0, 0, 0, 1, 0, 0, 0, 0, 0, 0, 0, 0, 0, 0, 0, 0, 0, 0, 0, 0, 0, 0, 1, 0, 0]</td>\n",
       "    </tr>\n",
       "    <tr>\n",
       "      <th>4</th>\n",
       "      <td>4</td>\n",
       "      <td>big fat ass pornstar ivy lebelle gets anal james deen</td>\n",
       "      <td>https://www.pornktube.tv/videos/18543/big-fat-ass-pornstar-ivy-lebelle-gets-anal-by-james-deen/</td>\n",
       "      <td>43</td>\n",
       "      <td>410</td>\n",
       "      <td>226</td>\n",
       "      <td>18543</td>\n",
       "      <td>[anal, big_tits, tattoo]</td>\n",
       "      <td>[0, 1, 0, 0, 1, 0, 0, 0, 0, 0, 0, 0, 0, 0, 0, 0, 0, 0, 0, 0, 0, 0, 0, 0, 0, 0, 0, 0, 0, 0, 0, 0, 0, 0, 0, 0, 0, 0, 0, 0, 0, 0, 0, 0, 1, 0, 0, 0, 0]</td>\n",
       "    </tr>\n",
       "  </tbody>\n",
       "</table>\n",
       "</div>"
      ],
      "text/plain": [
       "   index                                                 video_title  \\\n",
       "0      0       cute teen dasha frost riding step brothers dick loves   \n",
       "1      1  big tits fat ass milf caught jerking step son adopted cock   \n",
       "2      2        slim body oiled teen mature masseur feet fetish porn   \n",
       "3      3        natural tits mexican guy busty step sister dani diaz   \n",
       "4      4       big fat ass pornstar ivy lebelle gets anal james deen   \n",
       "\n",
       "                                                                                                          video_link  \\\n",
       "0       https://www.pornktube.tv/videos/18542/cute-teen-dasha-frost-riding-her-step-brother-s-dick-and-she-loves-it/   \n",
       "1  https://www.pornktube.tv/videos/18514/big-tits-and-fat-ass-milf-caught-her-jerking-step-son-and-adopted-his-cock/   \n",
       "2                 https://www.pornktube.tv/videos/18544/slim-body-oiled-teen-and-mature-masseur-in-feet-fetish-porn/   \n",
       "3                https://www.pornktube.tv/videos/18536/natural-tits-mexican-guy-and-his-busty-step-sister-dani-diaz/   \n",
       "4                    https://www.pornktube.tv/videos/18543/big-fat-ass-pornstar-ivy-lebelle-gets-anal-by-james-deen/   \n",
       "\n",
       "   video_length  video_likes  video_dislikes  video_id  \\\n",
       "0            27            8               2     18542   \n",
       "1            36           12               2     18514   \n",
       "2            28          134              62     18544   \n",
       "3            30          315             136     18536   \n",
       "4            43          410             226     18543   \n",
       "\n",
       "                 video_tags  \\\n",
       "0           [russian, teen]   \n",
       "1   [big_tits, fat, mature]   \n",
       "2     [feet, massage, teen]   \n",
       "3        [cum, latin, teen]   \n",
       "4  [anal, big_tits, tattoo]   \n",
       "\n",
       "                                                                                                                                           vector_tags  \n",
       "0  [0, 0, 0, 0, 0, 0, 0, 0, 0, 0, 0, 0, 0, 0, 0, 0, 0, 0, 0, 0, 0, 0, 0, 0, 0, 0, 0, 0, 0, 0, 0, 0, 0, 0, 0, 0, 0, 1, 0, 0, 0, 0, 0, 0, 0, 0, 1, 0, 0]  \n",
       "1  [0, 0, 0, 0, 1, 0, 0, 0, 0, 0, 0, 0, 0, 0, 0, 0, 0, 1, 0, 0, 0, 0, 0, 0, 0, 0, 0, 0, 0, 0, 0, 1, 0, 0, 0, 0, 0, 0, 0, 0, 0, 0, 0, 0, 0, 0, 0, 0, 0]  \n",
       "2  [0, 0, 0, 0, 0, 0, 0, 0, 0, 0, 0, 0, 0, 0, 0, 0, 0, 0, 1, 0, 0, 0, 0, 0, 0, 0, 0, 0, 0, 1, 0, 0, 0, 0, 0, 0, 0, 0, 0, 0, 0, 0, 0, 0, 0, 0, 1, 0, 0]  \n",
       "3  [0, 0, 0, 0, 0, 0, 0, 0, 0, 0, 0, 0, 1, 0, 0, 0, 0, 0, 0, 0, 0, 0, 0, 0, 0, 0, 0, 1, 0, 0, 0, 0, 0, 0, 0, 0, 0, 0, 0, 0, 0, 0, 0, 0, 0, 0, 1, 0, 0]  \n",
       "4  [0, 1, 0, 0, 1, 0, 0, 0, 0, 0, 0, 0, 0, 0, 0, 0, 0, 0, 0, 0, 0, 0, 0, 0, 0, 0, 0, 0, 0, 0, 0, 0, 0, 0, 0, 0, 0, 0, 0, 0, 0, 0, 0, 0, 1, 0, 0, 0, 0]  "
      ]
     },
     "execution_count": 65,
     "metadata": {},
     "output_type": "execute_result"
    }
   ],
   "source": [
    "df_copy.head()"
   ]
  },
  {
   "cell_type": "code",
   "execution_count": 66,
   "id": "a1b914b4",
   "metadata": {},
   "outputs": [],
   "source": [
    "from nltk.stem.porter import PorterStemmer"
   ]
  },
  {
   "cell_type": "code",
   "execution_count": 67,
   "id": "201a220e",
   "metadata": {},
   "outputs": [],
   "source": [
    "ps = PorterStemmer()"
   ]
  },
  {
   "cell_type": "code",
   "execution_count": 68,
   "id": "ac10ac68",
   "metadata": {},
   "outputs": [
    {
     "data": {
      "text/plain": [
       "'brother'"
      ]
     },
     "execution_count": 68,
     "metadata": {},
     "output_type": "execute_result"
    }
   ],
   "source": [
    "ps.stem('brother')"
   ]
  },
  {
   "cell_type": "code",
   "execution_count": 69,
   "id": "4142f8d7",
   "metadata": {},
   "outputs": [],
   "source": [
    "def stemmer(text):\n",
    "    text_ls = text.split()\n",
    "    l = []\n",
    "    for i in text_ls:\n",
    "        i = ps.stem(i)\n",
    "        l.append(i)\n",
    "    return ' '.join(l) "
   ]
  },
  {
   "cell_type": "code",
   "execution_count": 70,
   "id": "60850814",
   "metadata": {},
   "outputs": [],
   "source": [
    "df_copy['video_title'] = df_copy['video_title'].apply(lambda x: stemmer(x))"
   ]
  },
  {
   "cell_type": "code",
   "execution_count": 71,
   "id": "a8a72402",
   "metadata": {},
   "outputs": [
    {
     "data": {
      "text/html": [
       "<div>\n",
       "<style scoped>\n",
       "    .dataframe tbody tr th:only-of-type {\n",
       "        vertical-align: middle;\n",
       "    }\n",
       "\n",
       "    .dataframe tbody tr th {\n",
       "        vertical-align: top;\n",
       "    }\n",
       "\n",
       "    .dataframe thead th {\n",
       "        text-align: right;\n",
       "    }\n",
       "</style>\n",
       "<table border=\"1\" class=\"dataframe\">\n",
       "  <thead>\n",
       "    <tr style=\"text-align: right;\">\n",
       "      <th></th>\n",
       "      <th>index</th>\n",
       "      <th>video_title</th>\n",
       "      <th>video_link</th>\n",
       "      <th>video_length</th>\n",
       "      <th>video_likes</th>\n",
       "      <th>video_dislikes</th>\n",
       "      <th>video_id</th>\n",
       "      <th>video_tags</th>\n",
       "      <th>vector_tags</th>\n",
       "    </tr>\n",
       "  </thead>\n",
       "  <tbody>\n",
       "    <tr>\n",
       "      <th>0</th>\n",
       "      <td>0</td>\n",
       "      <td>cute teen dasha frost ride step brother dick love</td>\n",
       "      <td>https://www.pornktube.tv/videos/18542/cute-teen-dasha-frost-riding-her-step-brother-s-dick-and-she-loves-it/</td>\n",
       "      <td>27</td>\n",
       "      <td>8</td>\n",
       "      <td>2</td>\n",
       "      <td>18542</td>\n",
       "      <td>[russian, teen]</td>\n",
       "      <td>[0, 0, 0, 0, 0, 0, 0, 0, 0, 0, 0, 0, 0, 0, 0, 0, 0, 0, 0, 0, 0, 0, 0, 0, 0, 0, 0, 0, 0, 0, 0, 0, 0, 0, 0, 0, 0, 1, 0, 0, 0, 0, 0, 0, 0, 0, 1, 0, 0]</td>\n",
       "    </tr>\n",
       "  </tbody>\n",
       "</table>\n",
       "</div>"
      ],
      "text/plain": [
       "   index                                        video_title  \\\n",
       "0      0  cute teen dasha frost ride step brother dick love   \n",
       "\n",
       "                                                                                                     video_link  \\\n",
       "0  https://www.pornktube.tv/videos/18542/cute-teen-dasha-frost-riding-her-step-brother-s-dick-and-she-loves-it/   \n",
       "\n",
       "   video_length  video_likes  video_dislikes  video_id       video_tags  \\\n",
       "0            27            8               2     18542  [russian, teen]   \n",
       "\n",
       "                                                                                                                                           vector_tags  \n",
       "0  [0, 0, 0, 0, 0, 0, 0, 0, 0, 0, 0, 0, 0, 0, 0, 0, 0, 0, 0, 0, 0, 0, 0, 0, 0, 0, 0, 0, 0, 0, 0, 0, 0, 0, 0, 0, 0, 1, 0, 0, 0, 0, 0, 0, 0, 0, 1, 0, 0]  "
      ]
     },
     "execution_count": 71,
     "metadata": {},
     "output_type": "execute_result"
    }
   ],
   "source": [
    "df_copy.head(1)"
   ]
  },
  {
   "cell_type": "code",
   "execution_count": 72,
   "id": "cc2a0439",
   "metadata": {},
   "outputs": [],
   "source": [
    "from sklearn.feature_extraction.text import CountVectorizer"
   ]
  },
  {
   "cell_type": "code",
   "execution_count": 73,
   "id": "af53108c",
   "metadata": {},
   "outputs": [],
   "source": [
    "CV = CountVectorizer(max_features=53565)"
   ]
  },
  {
   "cell_type": "code",
   "execution_count": 74,
   "id": "8715d360",
   "metadata": {},
   "outputs": [],
   "source": [
    "arr = CV.fit_transform(df_copy['video_title']).toarray()"
   ]
  },
  {
   "cell_type": "code",
   "execution_count": 75,
   "id": "c5e0ae02",
   "metadata": {},
   "outputs": [],
   "source": [
    "similatity_2 = cosine_similarity(arr)"
   ]
  },
  {
   "cell_type": "code",
   "execution_count": 76,
   "id": "1d0a86c7",
   "metadata": {},
   "outputs": [
    {
     "data": {
      "text/plain": [
       "array([1.        , 0.10050378, 0.11111111, ..., 0.        , 0.        ,\n",
       "       0.        ])"
      ]
     },
     "execution_count": 76,
     "metadata": {},
     "output_type": "execute_result"
    }
   ],
   "source": [
    "similatity_2[0]"
   ]
  },
  {
   "cell_type": "code",
   "execution_count": 77,
   "id": "f40889b1",
   "metadata": {},
   "outputs": [],
   "source": [
    "def similar_videos_on_title(id):\n",
    "    if 'https:' in str(id):\n",
    "        id = int(id.split('/')[4])\n",
    "    else:\n",
    "        index_given = df_copy[df_copy['video_id'] == id].index[0]\n",
    "        print(df_copy.loc[index_given]['video_link'])\n",
    "        most_similar_videos = sorted(list(enumerate(similatity_2[index_given])),reverse=True,key = lambda x : x[-1])[1:13]\n",
    "        l = []\n",
    "        for i in most_similar_videos:\n",
    "            l.append(i[0])\n",
    "        #print(l)\n",
    "        print('Recommended Videos')\n",
    "        for i in l:\n",
    "            print(df_copy.iloc[i]['video_link'])"
   ]
  },
  {
   "cell_type": "code",
   "execution_count": 78,
   "id": "53e3e402",
   "metadata": {},
   "outputs": [
    {
     "name": "stdout",
     "output_type": "stream",
     "text": [
      "https://www.pornktube.tv/videos/18543/big-fat-ass-pornstar-ivy-lebelle-gets-anal-by-james-deen/\n",
      "Recommended Videos\n",
      "https://www.pornktube.tv/videos/15985/evil-fucker-james-deen-and-his-anal-whore-ivy-lebelle/\n",
      "https://www.pornktube.tv/videos/16002/quality-anal-porn-with-big-booty-bitch-ivy-lebelle/\n",
      "https://www.pornktube.tv/videos/16005/anal-fetish-horror-porn-with-big-booty-ivy-lebelle/\n",
      "https://www.pornktube.tv/videos/15493/alena-croft-anal-massage-with-penetration-of-my-big-fat-ass/\n",
      "https://www.pornktube.tv/videos/14664/big-boobs-pornstar-shyla-stylez-gets-her-ass-oilfucked/\n",
      "https://www.pornktube.tv/videos/12506/james-deen-fucks-his-new-girlfriend-s-big-ass-in-the-bathroom/\n",
      "https://www.pornktube.tv/videos/11040/anal-queen-jada-stevens-with-big-ass-gets-buttfucked/\n",
      "https://www.pornktube.tv/videos/18391/petite-ass-starlet-doris-ivy-gets-anal-at-woodman-s-casting/\n",
      "https://www.pornktube.tv/videos/18333/big-ass-slim-stripper-kayden-kross-gets-anal-after-striptease/\n",
      "https://www.pornktube.tv/videos/17355/tanned-slut-shows-her-curvy-big-ass-and-gets-anal-stuffed/\n",
      "https://www.pornktube.tv/videos/16816/white-girl-gets-her-fat-ass-pounded-by-two-big-cocks/\n",
      "https://www.pornktube.tv/videos/15541/big-booty-anal-slut-natasha-teen-gets-her-ass-drilled/\n"
     ]
    }
   ],
   "source": [
    "#based on title\n",
    "similar_videos_on_title(18543)"
   ]
  },
  {
   "cell_type": "code",
   "execution_count": 79,
   "id": "04f28110",
   "metadata": {},
   "outputs": [
    {
     "name": "stdout",
     "output_type": "stream",
     "text": [
      "https://www.pornktube.tv/videos/18543/big-fat-ass-pornstar-ivy-lebelle-gets-anal-by-james-deen/\n",
      "Recommended Videos\n",
      "https://www.pornktube.tv/videos/17066/marica-chanelle-my-big-tight-ass-needs-deep-plowing-by-fat-dick/\n",
      "https://www.pornktube.tv/videos/16053/horny-blonde-karma-rx-gets-her-tattooed-butt-banged-by-markus-dupree/\n",
      "https://www.pornktube.tv/videos/16108/sarah-jessie-brutal-fucker-ramon-nomar-fucks-busty-milf-s-ass/\n",
      "https://www.pornktube.tv/videos/16004/tattooed-punk-ivy-lebelle-prefers-maximum-penetration-in-her-ass/\n",
      "https://www.pornktube.tv/videos/16002/quality-anal-porn-with-big-booty-bitch-ivy-lebelle/\n",
      "https://www.pornktube.tv/videos/14791/big-oiled-booty-slut-ivy-lebelle-gets-fucked-by-markus-dupree/\n",
      "https://www.pornktube.tv/videos/14641/harlow-harrison-pleasant-conversation-and-sex-with-drunken-bartender/\n",
      "https://www.pornktube.tv/videos/14450/veronica-rose-i-love-colorful-tattoos-and-deep-anal-banged/\n",
      "https://www.pornktube.tv/videos/13418/married-man-fucks-his-wife-s-instructor-harlow-harrison/\n",
      "https://www.pornktube.tv/videos/13355/first-anal-action-slutty-anna-bell-peaks-takes-fat-cock-into-her-ass/\n",
      "https://www.pornktube.tv/videos/12509/tattooed-slut-mason-moore-with-big-boobs-gets-assfucked-hard/\n",
      "https://www.pornktube.tv/videos/15714/lonely-mature-woman-ashton-blake-seduced-her-21-year-old-neighbor/\n"
     ]
    }
   ],
   "source": [
    "#based on tags\n",
    "similar_videos(18543)"
   ]
  }
 ],
 "metadata": {
  "kernelspec": {
   "display_name": "Python 3 (ipykernel)",
   "language": "python",
   "name": "python3"
  },
  "language_info": {
   "codemirror_mode": {
    "name": "ipython",
    "version": 3
   },
   "file_extension": ".py",
   "mimetype": "text/x-python",
   "name": "python",
   "nbconvert_exporter": "python",
   "pygments_lexer": "ipython3",
   "version": "3.9.12"
  }
 },
 "nbformat": 4,
 "nbformat_minor": 5
}
